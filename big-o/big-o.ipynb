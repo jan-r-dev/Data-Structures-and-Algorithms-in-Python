{
 "cells": [
  {
   "attachments": {},
   "cell_type": "markdown",
   "metadata": {},
   "source": [
    "https://www.bigocheatsheet.com/\n",
    "\n",
    "https://stackoverflow.com/questions/487258/what-is-a-plain-english-explanation-of-big-o-notation/487278#487278"
   ]
  },
  {
   "cell_type": "code",
   "execution_count": null,
   "metadata": {},
   "outputs": [],
   "source": [
    "from typing import Any\n",
    "\n",
    "SAMPLE = [1, 2, 3, 4, 5]\n"
   ]
  },
  {
   "cell_type": "code",
   "execution_count": null,
   "metadata": {},
   "outputs": [],
   "source": [
    "def constant(n: list[Any]):\n",
    "    \"\"\"\n",
    "    O(1)\n",
    "    Constant complexity\n",
    "    \"\"\"\n",
    "    print(n[0])\n",
    "\n",
    "\n",
    "constant(SAMPLE)\n"
   ]
  },
  {
   "cell_type": "code",
   "execution_count": null,
   "metadata": {},
   "outputs": [],
   "source": [
    "def linear(n: list[Any]):\n",
    "    \"\"\"\n",
    "    O(n)\n",
    "    Linear complexity\n",
    "    \"\"\"\n",
    "    for v in n:\n",
    "        print(v)\n",
    "\n",
    "\n",
    "linear(SAMPLE)\n"
   ]
  },
  {
   "cell_type": "code",
   "execution_count": null,
   "metadata": {},
   "outputs": [],
   "source": [
    "def linear_2(n: list[Any]):\n",
    "    \"\"\"\n",
    "    O(n)\n",
    "    Technically, this would be O(2n), but with potentially infinite n input, insignificant constants are dropped.\n",
    "    \"\"\"\n",
    "    for v in n:\n",
    "        print(v)\n",
    "\n",
    "    for v in n:\n",
    "        print(v)\n",
    "\n",
    "\n",
    "linear_2(SAMPLE)\n"
   ]
  },
  {
   "cell_type": "code",
   "execution_count": null,
   "metadata": {},
   "outputs": [],
   "source": [
    "def logarithmic(n: list[Any], x: int) -> int:\n",
    "    \"\"\"\n",
    "    O(log n)\n",
    "    Binary search. Time grows linearly as the output grows exponentially. List must be sorted.\n",
    "    Returns either the index or -1 if not found.\n",
    "    \"\"\"\n",
    "\n",
    "    low = 0\n",
    "    high = len(n) - 1\n",
    "\n",
    "    while low <= high:\n",
    "        mid = (high + low) // 2\n",
    "\n",
    "        if n[mid] < x:\n",
    "            low = mid + 1\n",
    "        elif n[mid] > x:\n",
    "            high = mid - 1\n",
    "        else:\n",
    "            return mid\n",
    "\n",
    "    return -1\n",
    "\n",
    "\n",
    "x = 2\n",
    "result = logarithmic(SAMPLE, x)\n",
    "\n",
    "if result == -1:\n",
    "    print(f\"Element {x} not found.\")\n",
    "else:\n",
    "    print(f\"Element {x} found at index {result}.\")\n"
   ]
  },
  {
   "cell_type": "code",
   "execution_count": null,
   "metadata": {},
   "outputs": [],
   "source": [
    "def quadratic(n: list[Any]):\n",
    "    \"\"\"\n",
    "    O(n^2)\n",
    "    Quadratic complexity\n",
    "    \"\"\"\n",
    "    for v_1 in n:\n",
    "        for v_2 in n:\n",
    "            print(f\"{v_1}\\t{v_2}\")\n",
    "\n",
    "\n",
    "quadratic(SAMPLE)\n"
   ]
  },
  {
   "cell_type": "code",
   "execution_count": null,
   "metadata": {},
   "outputs": [],
   "source": [
    "def factorial(data: list[Any], n: int):\n",
    "    \"\"\"\n",
    "    O(n!)\n",
    "    Factorial complexity\n",
    "    \"\"\"\n",
    "    if n == 1:\n",
    "        print(data)\n",
    "        return\n",
    "\n",
    "    for i in range(n):\n",
    "        factorial(data, n - 1)\n",
    "        if n % 2 == 0:\n",
    "            data[i], data[n-1] = data[n-1], data[i]\n",
    "        else:\n",
    "            data[0], data[n-1] = data[n-1], data[0]\n",
    "\n",
    "\n",
    "factorial(SAMPLE[:3], 3)\n"
   ]
  },
  {
   "attachments": {},
   "cell_type": "markdown",
   "metadata": {},
   "source": [
    "Note the potential trade-offs between space complexity (relating to memory) and time complexity. The examples above deal with time complexity."
   ]
  }
 ],
 "metadata": {
  "kernelspec": {
   "display_name": "Python 3",
   "language": "python",
   "name": "python3"
  },
  "language_info": {
   "codemirror_mode": {
    "name": "ipython",
    "version": 3
   },
   "file_extension": ".py",
   "mimetype": "text/x-python",
   "name": "python",
   "nbconvert_exporter": "python",
   "pygments_lexer": "ipython3",
   "version": "3.10.7"
  },
  "orig_nbformat": 4,
  "vscode": {
   "interpreter": {
    "hash": "2a2f6e787c30e6a4c99d2a9296bd29e67e2f02114155b7ff2e2bfd5731942039"
   }
  }
 },
 "nbformat": 4,
 "nbformat_minor": 2
}
