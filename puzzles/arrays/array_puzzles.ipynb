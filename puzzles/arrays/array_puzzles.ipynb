{
 "cells": [
  {
   "cell_type": "code",
   "execution_count": null,
   "metadata": {},
   "outputs": [],
   "source": [
    "# Anagram check\n",
    "\n",
    "import string\n",
    "\n",
    "\n",
    "def anagram(s1: str, s2: str) -> None:\n",
    "    s1 = s1.translate({ord(c): None for c in string.whitespace})\n",
    "    s2 = s2.translate({ord(c): None for c in string.whitespace})\n",
    "\n",
    "    s1_list = list(s1.lower())\n",
    "    s1_list.sort()\n",
    "\n",
    "    s2_list = list(s2.lower())\n",
    "    s2_list.sort()\n",
    "\n",
    "    print(str(s1_list) == str(s2_list))\n",
    "\n",
    "\n",
    "anagram(\"Nozd   ormu\", \"M  uro zond\")\n",
    "anagram(\"Clint Eastwood\", \"Old West Action\")\n"
   ]
  },
  {
   "cell_type": "code",
   "execution_count": null,
   "metadata": {},
   "outputs": [],
   "source": [
    "# Array pair sum\n",
    "\n",
    "def array_sum(numbers: list[int], target_number: int) -> tuple[tuple[int]]:\n",
    "    numbers_cleared = []\n",
    "    answers = []\n",
    "\n",
    "    for v in numbers:\n",
    "        if v < target_number and v > 0:\n",
    "            numbers_cleared.append(v)\n",
    "\n",
    "    for i, v_1 in enumerate(numbers_cleared):\n",
    "        for v_2 in numbers_cleared[i+1:]:\n",
    "            if v_1 + v_2 == target_number:\n",
    "                answers.append((v_1, v_2))\n",
    "\n",
    "    return tuple(set(answers))\n",
    "\n",
    "\n",
    "print(array_sum([1, 2, 3, 4, 5, 6, 2, 2, 2], 4))\n"
   ]
  }
 ],
 "metadata": {
  "kernelspec": {
   "display_name": "Python 3",
   "language": "python",
   "name": "python3"
  },
  "language_info": {
   "codemirror_mode": {
    "name": "ipython",
    "version": 3
   },
   "file_extension": ".py",
   "mimetype": "text/x-python",
   "name": "python",
   "nbconvert_exporter": "python",
   "pygments_lexer": "ipython3",
   "version": "3.10.7"
  },
  "orig_nbformat": 4,
  "vscode": {
   "interpreter": {
    "hash": "2a2f6e787c30e6a4c99d2a9296bd29e67e2f02114155b7ff2e2bfd5731942039"
   }
  }
 },
 "nbformat": 4,
 "nbformat_minor": 2
}
