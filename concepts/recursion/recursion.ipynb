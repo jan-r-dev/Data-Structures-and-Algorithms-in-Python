{
 "cells": [
  {
   "cell_type": "markdown",
   "metadata": {},
   "source": [
    "https://en.wikipedia.org/wiki/Memoization"
   ]
  },
  {
   "cell_type": "code",
   "execution_count": null,
   "metadata": {},
   "outputs": [],
   "source": [
    "n = 10\n",
    "\n",
    "\n",
    "def factorial(n: int) -> int:\n",
    "    if n == 0:\n",
    "        return 1\n",
    "\n",
    "    return n * (factorial(n-1))\n",
    "\n",
    "\n",
    "factorial(n)\n"
   ]
  },
  {
   "cell_type": "code",
   "execution_count": null,
   "metadata": {},
   "outputs": [],
   "source": [
    "n = 10\n",
    "\n",
    "\n",
    "def cumulative_sum(n: int) -> int:\n",
    "    if n == 1:\n",
    "        return 1\n",
    "\n",
    "    return n + (cumulative_sum(n-1))\n",
    "\n",
    "\n",
    "cumulative_sum(n)\n"
   ]
  },
  {
   "cell_type": "code",
   "execution_count": null,
   "metadata": {},
   "outputs": [],
   "source": [
    "n = 4321\n",
    "\n",
    "\n",
    "def digit_sum(n: int) -> int:\n",
    "    digit_list: list[int] = []\n",
    "    for digit in str(n):\n",
    "        digit_list.append(int(digit))\n",
    "\n",
    "    return sum(digit_list)\n",
    "\n",
    "\n",
    "def sum(n: list[int]) -> int:\n",
    "    if len(n) == 1:\n",
    "        return n[0]\n",
    "\n",
    "    return n[0] + sum(n[1:])\n",
    "\n",
    "\n",
    "digit_sum(n)\n"
   ]
  }
 ],
 "metadata": {
  "kernelspec": {
   "display_name": "Python 3",
   "language": "python",
   "name": "python3"
  },
  "language_info": {
   "codemirror_mode": {
    "name": "ipython",
    "version": 3
   },
   "file_extension": ".py",
   "mimetype": "text/x-python",
   "name": "python",
   "nbconvert_exporter": "python",
   "pygments_lexer": "ipython3",
   "version": "3.10.7"
  },
  "orig_nbformat": 4,
  "vscode": {
   "interpreter": {
    "hash": "2a2f6e787c30e6a4c99d2a9296bd29e67e2f02114155b7ff2e2bfd5731942039"
   }
  }
 },
 "nbformat": 4,
 "nbformat_minor": 2
}
