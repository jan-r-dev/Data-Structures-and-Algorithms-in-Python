{
 "cells": [
  {
   "attachments": {},
   "cell_type": "markdown",
   "metadata": {},
   "source": [
    "https://visualgo.net/en/sorting"
   ]
  },
  {
   "cell_type": "code",
   "execution_count": null,
   "metadata": {},
   "outputs": [],
   "source": [
    "# Bubble sort\n",
    "\"\"\"\n",
    "Compare adjacent items and swap them if they are out of order in scope of several passes through the list.\n",
    "\"\"\""
   ]
  },
  {
   "cell_type": "code",
   "execution_count": null,
   "metadata": {},
   "outputs": [],
   "source": [
    "# Selection sort\n",
    "\"\"\"\n",
    "Look for the largest value in scope of a pass and place it in its proper location at the end of the pass.\n",
    "\"\"\"\n"
   ]
  },
  {
   "cell_type": "code",
   "execution_count": null,
   "metadata": {},
   "outputs": [],
   "source": [
    "# Insertion sort\n",
    "\"\"\"\n",
    "Begin with a sublist of len == 1 which we assume is sorted. For each pass, insert a new element into that already sorted sublist at its correct position. Greater items in the sorted sublist are pushed to the right.\n",
    "\"\"\""
   ]
  },
  {
   "cell_type": "code",
   "execution_count": null,
   "metadata": {},
   "outputs": [],
   "source": [
    "# Shell sort\n",
    "\"\"\"\n",
    "Improves on the insertion sort by splitting the original list into a number of sublists chosen according to the increment i - choosing all items that are i items apart.\n",
    "\"\"\""
   ]
  },
  {
   "cell_type": "code",
   "execution_count": null,
   "metadata": {},
   "outputs": [],
   "source": [
    "# Merge sort\n",
    "\"\"\"\n",
    "Divide the unsorted list into n sublists, each containing one element (a list of one element is considered sorted).\n",
    "Repeatedly merge sublists to produce new sorted sublists until there is only one sublist remaining. This will be the sorted list.\n",
    "\"\"\"\n"
   ]
  },
  {
   "cell_type": "code",
   "execution_count": null,
   "metadata": {},
   "outputs": [],
   "source": [
    "# Quick sort\n",
    "\"\"\"\n",
    "Quicksort is a divide-and-conquer algorithm. It works by selecting a 'pivot' element from the array and partitioning the other elements into two sub-arrays, according to whether they are less than or greater than the pivot. The sub-arrays are then sorted recursively. \n",
    "\"\"\""
   ]
  }
 ],
 "metadata": {
  "language_info": {
   "name": "python"
  },
  "orig_nbformat": 4
 },
 "nbformat": 4,
 "nbformat_minor": 2
}
