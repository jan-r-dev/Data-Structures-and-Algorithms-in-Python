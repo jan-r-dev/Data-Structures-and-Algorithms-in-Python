{
 "cells": [
  {
   "cell_type": "code",
   "execution_count": null,
   "metadata": {},
   "outputs": [],
   "source": [
    "def sequential_search_unordered(values: list[int], target: int) -> bool:\n",
    "    for value in values:\n",
    "        if value == target:\n",
    "            return True\n",
    "\n",
    "    return False\n",
    "\n",
    "\n",
    "def sequential_search_ordered(values: list[int], target: int) -> bool:\n",
    "    \"\"\"\n",
    "    More efficient in the average case, as the whole list does not need to be parsed, only until the value is equal or greater to the target. O(n/2)\n",
    "\n",
    "    Values must be sorted in asc order.\n",
    "    \"\"\"\n",
    "    for value in values:\n",
    "        if value > target:\n",
    "            return False\n",
    "        elif value == target:\n",
    "            return True\n",
    "\n",
    "    return False\n",
    "\n",
    "\n",
    "sample = [2, 4, 6, 1, 2, 5, 7123, 12, 234]\n",
    "target_true = 5\n",
    "target_false = 123123\n",
    "\n",
    "print(f\"Result of unordered search for {target_true}: {sequential_search_unordered(sample, target_true)}\")\n",
    "print(f\"Result of unordered search for {target_false}: {sequential_search_unordered(sample, target_false)}\")\n",
    "\n",
    "sample.sort()\n",
    "\n",
    "print(f\"Result of ordered search for {target_true}: {sequential_search_ordered(sample, target_true)}\")\n",
    "print(f\"Result of ordered search for {target_false}: {sequential_search_ordered(sample, target_false)}\")\n"
   ]
  },
  {
   "cell_type": "code",
   "execution_count": null,
   "metadata": {},
   "outputs": [],
   "source": [
    "sample = [1, 2, 2, 4, 5, 6, 12, 234, 7123]\n",
    "\n",
    "\n",
    "def binary_search(values: list[int], target: int) -> int:\n",
    "    \"\"\"\n",
    "    Values must be sorted in asc order\n",
    "    \"\"\"\n",
    "    low = 0\n",
    "    high = len(values) - 1\n",
    "    found = False\n",
    "\n",
    "    while low <= high and not found:\n",
    "        mid = (low+high)//2\n",
    "\n",
    "        if values[mid] == target:\n",
    "            found = True\n",
    "            break\n",
    "\n",
    "        if target < values[mid]:\n",
    "            high = mid-1\n",
    "        else:\n",
    "            low = mid+1\n",
    "\n",
    "    return found\n",
    "\n",
    "\n",
    "print(f\"Result of binary search for {234}: {binary_search(sample, 234)}\")\n"
   ]
  },
  {
   "cell_type": "code",
   "execution_count": null,
   "metadata": {},
   "outputs": [],
   "source": [
    "sample = [1, 2, 2, 4, 5, 6, 12, 234, 7123]\n",
    "\n",
    "\n",
    "def binary_search_recursive(values: list[int], low: int, high: int, target: int) -> bool:\n",
    "    \"\"\"\n",
    "    Values must be sorted in asc order\n",
    "    \"\"\"\n",
    "    if high >= low:\n",
    "        mid = (high + low) // 2\n",
    "\n",
    "        if values[mid] == target:\n",
    "            return True\n",
    "\n",
    "        elif target < values[mid]:\n",
    "            return binary_search_recursive(values, low, mid - 1, target)\n",
    "        else:\n",
    "            return binary_search_recursive(values, mid + 1, high, target)\n",
    "\n",
    "    else:\n",
    "        return False\n",
    "\n",
    "\n",
    "print(\n",
    "    f\"Result of binary search (recursive) for {234}: {binary_search_recursive(sample, low=0, high=len(sample) - 1, target=234)}\")\n"
   ]
  }
 ],
 "metadata": {
  "kernelspec": {
   "display_name": "Python 3",
   "language": "python",
   "name": "python3"
  },
  "language_info": {
   "codemirror_mode": {
    "name": "ipython",
    "version": 3
   },
   "file_extension": ".py",
   "mimetype": "text/x-python",
   "name": "python",
   "nbconvert_exporter": "python",
   "pygments_lexer": "ipython3",
   "version": "3.10.7"
  },
  "orig_nbformat": 4,
  "vscode": {
   "interpreter": {
    "hash": "2a2f6e787c30e6a4c99d2a9296bd29e67e2f02114155b7ff2e2bfd5731942039"
   }
  }
 },
 "nbformat": 4,
 "nbformat_minor": 2
}
